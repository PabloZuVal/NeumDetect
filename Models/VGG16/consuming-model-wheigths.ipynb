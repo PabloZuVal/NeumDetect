{
 "cells": [
  {
   "cell_type": "code",
   "execution_count": 1,
   "id": "13c2ec28",
   "metadata": {},
   "outputs": [],
   "source": [
    "import tensorflow as tf\n",
    "from tensorflow.keras.models import Sequential\n",
    "from tensorflow.keras.layers import Dense, Flatten\n",
    "from tensorflow.keras.applications.vgg16 import VGG16\n",
    "from tensorflow.keras.preprocessing import image\n",
    "import numpy as np"
   ]
  },
  {
   "cell_type": "code",
   "execution_count": 2,
   "id": "02d108bd",
   "metadata": {},
   "outputs": [],
   "source": [
    "def create_model():\n",
    "    base_model = VGG16(weights=\"imagenet\", include_top=False, input_shape=(150, 150, 3))\n",
    "    base_model.trainable = False\n",
    "\n",
    "    model = Sequential([\n",
    "        base_model,\n",
    "        Flatten(),\n",
    "        Dense(500, activation='relu'),\n",
    "        Dense(1, activation='sigmoid')\n",
    "    ])\n",
    "\n",
    "    model.compile(optimizer='adam', loss='binary_crossentropy', metrics=['accuracy'])\n",
    "    return model\n",
    "\n",
    "def load_and_preprocess_image(img_path):\n",
    "    img = image.load_img(img_path, target_size=(150, 150))\n",
    "    img_array = image.img_to_array(img)\n",
    "    img_array = np.expand_dims(img_array, axis=0)\n",
    "    img_array /= 255.0\n",
    "    return img_array\n",
    "\n",
    "def predict_pneumonia(model, img_path):\n",
    "    img_array = load_and_preprocess_image(img_path)\n",
    "    prediction = model.predict(img_array)\n",
    "\n",
    "    if prediction[0][0] > 0.5:\n",
    "        result = \"Neumonía\"\n",
    "        probability = prediction[0][0]\n",
    "    else:\n",
    "        result = \"Normal\"\n",
    "        probability = 1 - prediction[0][0]\n",
    "\n",
    "    return result, probability\n"
   ]
  },
  {
   "cell_type": "code",
   "execution_count": 3,
   "id": "5844044a",
   "metadata": {},
   "outputs": [
    {
     "name": "stdout",
     "output_type": "stream",
     "text": [
      "1/1 [==============================] - 0s 147ms/step\n",
      "El diagnóstico es: Normal con una probabilidad de 0.95\n"
     ]
    },
    {
     "name": "stderr",
     "output_type": "stream",
     "text": [
      "2024-06-27 18:59:02.985477: W tensorflow/core/platform/profile_utils/cpu_utils.cc:128] Failed to get CPU frequency: 0 Hz\n"
     ]
    }
   ],
   "source": [
    "# Crear y cargar el modelo\n",
    "model = create_model()\n",
    "model.load_weights('modelo_neumonia_vgg16_weights.h5')\n",
    "\n",
    "# Ejemplo de uso\n",
    "img_path = '/Users/**/Documents/LeWagon/Dataset Pneumonia/IMG-NORMAL.jpeg'\n",
    "result, probability = predict_pneumonia(model, img_path)\n",
    "print(f\"El diagnóstico es: {result} con una probabilidad de {probability:.2f}\")"
   ]
  },
  {
   "cell_type": "code",
   "execution_count": null,
   "id": "f8af6a90",
   "metadata": {},
   "outputs": [],
   "source": []
  }
 ],
 "metadata": {
  "kernelspec": {
   "display_name": "Python 3 (ipykernel)",
   "language": "python",
   "name": "python3"
  },
  "language_info": {
   "codemirror_mode": {
    "name": "ipython",
    "version": 3
   },
   "file_extension": ".py",
   "mimetype": "text/x-python",
   "name": "python",
   "nbconvert_exporter": "python",
   "pygments_lexer": "ipython3",
   "version": "3.10.6"
  },
  "toc": {
   "base_numbering": 1,
   "nav_menu": {},
   "number_sections": true,
   "sideBar": true,
   "skip_h1_title": false,
   "title_cell": "Table of Contents",
   "title_sidebar": "Contents",
   "toc_cell": false,
   "toc_position": {},
   "toc_section_display": true,
   "toc_window_display": false
  }
 },
 "nbformat": 4,
 "nbformat_minor": 5
}
